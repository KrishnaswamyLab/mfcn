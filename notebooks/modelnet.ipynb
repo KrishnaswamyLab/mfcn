{
 "cells": [
  {
   "cell_type": "code",
   "execution_count": 1,
   "metadata": {},
   "outputs": [],
   "source": [
    "import os\n",
    "from glob import glob\n",
    "import torch\n",
    "import torch.nn.functional as F\n",
    "\n",
    "import numpy as np\n",
    "import networkx as nx\n",
    "import matplotlib.pyplot as plt\n",
    "\n",
    "import torch_geometric.transforms as T\n",
    "from torch_geometric.transforms.knn_graph import KNNGraph\n",
    "from torch_geometric.datasets import ModelNet\n",
    "from torch_geometric.data import Data, Dataset, InMemoryDataset\n",
    "from torch_geometric.loader import DataLoader\n",
    "from torch_geometric.utils import to_networkx\n",
    "from torch_geometric.nn import knn_graph, radius_graph\n",
    "import torch_geometric\n",
    "from pcnn import DATA_DIR"
   ]
  },
  {
   "cell_type": "code",
   "execution_count": 2,
   "metadata": {},
   "outputs": [],
   "source": [
    "d = Data(pos = torch.rand(100,3))"
   ]
  },
  {
   "cell_type": "code",
   "execution_count": 3,
   "metadata": {},
   "outputs": [
    {
     "data": {
      "text/plain": [
       "Data(pos=[100, 3], node_attr_eig=[20], eigvec=[100, 20], eps=3)"
      ]
     },
     "execution_count": 3,
     "metadata": {},
     "output_type": "execute_result"
    }
   ],
   "source": [
    "from pcnn.data.utils import laplacian_epsilon_transform\n",
    "\n",
    "lap = laplacian_epsilon_transform(eps = 3, K = 20, d = 2, eps_quantile = 0.5)\n",
    "\n",
    "lap(d)"
   ]
  },
  {
   "cell_type": "code",
   "execution_count": 6,
   "metadata": {},
   "outputs": [
    {
     "ename": "NotImplementedError",
     "evalue": "",
     "output_type": "error",
     "traceback": [
      "\u001b[0;31m---------------------------------------------------------------------------\u001b[0m",
      "\u001b[0;31mNotImplementedError\u001b[0m                       Traceback (most recent call last)",
      "Cell \u001b[0;32mIn[6], line 1\u001b[0m\n\u001b[0;32m----> 1\u001b[0m lap\u001b[39m.\u001b[39;49m\u001b[39m__call__\u001b[39;49m(d)\n",
      "File \u001b[0;32m/gpfs/gibbs/project/krishnaswamy_smita/ed667/conda_envs/pcnn/lib/python3.9/site-packages/torch_geometric/transforms/base_transform.py:30\u001b[0m, in \u001b[0;36mBaseTransform.__call__\u001b[0;34m(self, data)\u001b[0m\n\u001b[1;32m     29\u001b[0m \u001b[39mdef\u001b[39;00m \u001b[39m__call__\u001b[39m(\u001b[39mself\u001b[39m, data: Any) \u001b[39m-\u001b[39m\u001b[39m>\u001b[39m Any:\n\u001b[0;32m---> 30\u001b[0m     \u001b[39mraise\u001b[39;00m \u001b[39mNotImplementedError\u001b[39;00m\n",
      "\u001b[0;31mNotImplementedError\u001b[0m: "
     ]
    }
   ],
   "source": [
    "lap.__call__(d)"
   ]
  },
  {
   "cell_type": "code",
   "execution_count": 2,
   "metadata": {},
   "outputs": [
    {
     "name": "stderr",
     "output_type": "stream",
     "text": [
      "/Users/edebrouwer/miniconda3/envs/pcnn/lib/python3.9/site-packages/torch_geometric/data/dataset.py:209: UserWarning: The `pre_transform` argument differs from the one used in the pre-processed version of this dataset. If you want to make use of another pre-processing technique, make sure to delete '/Users/edebrouwer/YaleLocal/pcnn/data/ModelNet10/processed' first\n",
      "  warnings.warn(\n"
     ]
    }
   ],
   "source": [
    "display_sample = 2048  #@param {type:\"slider\", min:256, max:4096, step:16}\n",
    "modelnet_dataset_alias = \"ModelNet10\" #@param [\"ModelNet10\", \"ModelNet40\"] {type:\"raw\"}\n",
    "k =5 \n",
    "\n",
    "# Classes for ModelNet10 and ModelNet40\n",
    "categories = sorted([\n",
    "    x.split(os.sep)[-2]\n",
    "    for x in glob(os.path.join(\n",
    "        modelnet_dataset_alias, \"raw\", '*', ''\n",
    "    ))\n",
    "])\n",
    "\n",
    "\n",
    "def signal_transform(x):\n",
    "    x.x = x.pos\n",
    "    return x\n",
    "\n",
    "knn_transform = KNNGraph(k=5)\n",
    "pre_transform = T.Compose([T.NormalizeScale(), T.SamplePoints(display_sample), KNNGraph(k = k) ])\n",
    "transform = signal_transform # T.SamplePoints(2048)\n",
    "train_dataset = ModelNet(\n",
    "    root= os.path.join(DATA_DIR,modelnet_dataset_alias),\n",
    "    name=modelnet_dataset_alias[-2:],\n",
    "    train=True,\n",
    "    transform=transform,\n",
    "    pre_transform=pre_transform\n",
    ")\n",
    "val_dataset = ModelNet(\n",
    "    root=os.path.join(DATA_DIR,modelnet_dataset_alias),\n",
    "    name=modelnet_dataset_alias[-2:],\n",
    "    train=False,\n",
    "    transform=transform,\n",
    "    pre_transform=pre_transform\n",
    ")"
   ]
  },
  {
   "cell_type": "code",
   "execution_count": 3,
   "metadata": {},
   "outputs": [],
   "source": [
    "def lap_transform(data):\n",
    "    L_sparse = torch_geometric.utils.get_laplacian(data.edge_index)\n",
    "    L = torch_geometric.utils.to_dense_adj(L_sparse[0], edge_attr=L_sparse[1])\n",
    "    eig, eigvec =  np.linalg.eigh(L)\n",
    "    data.node_attr_eig = torch.from_numpy(eig[0])\n",
    "    data.eigvec = torch.from_numpy(eigvec[0])\n",
    "    return data "
   ]
  },
  {
   "cell_type": "code",
   "execution_count": 6,
   "metadata": {},
   "outputs": [],
   "source": [
    "data_list = []\n",
    "for ix in range(4):\n",
    "    data = train_dataset[ix]\n",
    "    data = lap_transform(data)\n",
    "    data_list.append(data)\n"
   ]
  },
  {
   "cell_type": "code",
   "execution_count": 7,
   "metadata": {},
   "outputs": [],
   "source": [
    "from torch_geometric.loader import DataLoader\n",
    "loader = DataLoader(data_list, batch_size=3, shuffle=True)"
   ]
  },
  {
   "cell_type": "code",
   "execution_count": 8,
   "metadata": {},
   "outputs": [],
   "source": [
    "for i,b in enumerate(loader):\n",
    "    break"
   ]
  },
  {
   "cell_type": "code",
   "execution_count": 9,
   "metadata": {},
   "outputs": [],
   "source": [
    "from pcnn.data.utils import laplacian_epsilon"
   ]
  },
  {
   "cell_type": "code",
   "execution_count": 10,
   "metadata": {},
   "outputs": [
    {
     "data": {
      "text/plain": [
       "Data(pos=[100, 3], y=[1], edge_index=[2, 500], x=[100, 3], node_attr_eig=[1, 5], eigvec=[100, 5], eps=0.7064231336116791)"
      ]
     },
     "execution_count": 10,
     "metadata": {},
     "output_type": "execute_result"
    }
   ],
   "source": [
    "laplacian_epsilon(b[0],eps=\"auto\",K = 5)"
   ]
  },
  {
   "cell_type": "code",
   "execution_count": 191,
   "metadata": {},
   "outputs": [
    {
     "data": {
      "text/plain": [
       "DataBatch(pos=[400, 3], y=[4], edge_index=[2, 2000], x=[400, 3], node_attr_eig=[400], batch=[400], ptr=[5], L=[400, 400])"
      ]
     },
     "execution_count": 191,
     "metadata": {},
     "output_type": "execute_result"
    }
   ],
   "source": [
    "from torch_geometric.data import Batch\n",
    "import scipy\n",
    "\n",
    "def collate_fn(batch, follow_batch = None, exclude_keys = None):\n",
    "    b = Batch.from_data_list(batch, follow_batch,\n",
    "                                        exclude_keys)\n",
    "    \n",
    "    laplacians_eigvec = [data.eigvec for data in batch]\n",
    "    L_coo = scipy.sparse.block_diag(laplacians_eigvec)\n",
    "\n",
    "    values = L_coo.data\n",
    "    indices = np.vstack((L_coo.row, L_coo.col))\n",
    "\n",
    "    i = torch.LongTensor(indices)\n",
    "    v = torch.FloatTensor(values)\n",
    "    shape = L_coo.shape\n",
    "\n",
    "    L_tensor = torch.sparse.FloatTensor(i, v, torch.Size(shape)) \n",
    "\n",
    "    b.L = L_tensor\n",
    "    del b.eigvec \n",
    "    return b\n",
    "\n",
    "collate_fn(data_list)"
   ]
  },
  {
   "cell_type": "code",
   "execution_count": 176,
   "metadata": {},
   "outputs": [],
   "source": [
    "l1 = lap_transform(b[0]).node_attr_eigvec\n",
    "l2 = lap_transform(b[1]).node_attr_eigvec"
   ]
  },
  {
   "cell_type": "code",
   "execution_count": 186,
   "metadata": {},
   "outputs": [
    {
     "data": {
      "text/plain": [
       "tensor([[-1.1911e+00, -1.8467e+00,  3.4995e-01],\n",
       "        [-2.3002e-01,  1.9127e-01, -1.1923e+00],\n",
       "        [ 1.2082e+00, -2.2520e-01,  1.0149e+00],\n",
       "        [-3.3050e-01, -2.2328e-01,  1.4451e+00],\n",
       "        [-1.2253e+00,  1.4192e+00,  1.7891e+00],\n",
       "        [-5.7568e-01,  7.6012e-01, -2.9107e-01],\n",
       "        [-7.1767e-01, -5.6692e-01, -1.1906e-01],\n",
       "        [ 9.8512e-02, -4.7094e-01,  8.0786e-01],\n",
       "        [ 4.7804e-01, -7.6524e-01, -1.9153e+00],\n",
       "        [ 1.0781e+00,  1.6972e+00, -1.2212e+00],\n",
       "        [-3.8496e-02, -1.9264e+00, -2.0436e+00],\n",
       "        [-6.0984e-01,  8.1500e-02,  1.0066e+00],\n",
       "        [-4.3824e-01, -2.4632e+00, -4.9853e-01],\n",
       "        [ 1.5446e+00, -8.5531e-02, -2.3345e-01],\n",
       "        [-1.0623e+00, -1.3181e+00, -7.4373e-01],\n",
       "        [ 1.6621e+00,  4.8890e-01, -1.5234e+00],\n",
       "        [ 1.5335e+00, -2.7765e-01,  1.3002e-01],\n",
       "        [ 1.2379e+00,  1.0691e+00,  8.6068e-01],\n",
       "        [-1.2692e+00, -2.2840e+00,  7.8177e-02],\n",
       "        [-1.5010e+00, -9.2467e-01, -1.5449e-01],\n",
       "        [-1.4081e-01,  1.5257e+00, -3.0859e+00],\n",
       "        [ 3.6929e-01, -1.8674e-01, -2.1548e+00],\n",
       "        [-8.7848e-01, -1.2693e+00, -1.1886e+00],\n",
       "        [-1.5770e+00,  1.4865e+00,  4.9304e-01],\n",
       "        [ 1.3957e+00,  6.5401e-01,  6.1609e-01],\n",
       "        [-8.8531e-02, -1.9201e-01, -4.0205e-01],\n",
       "        [-2.5369e-01,  5.8674e-01,  3.4064e-01],\n",
       "        [ 1.3883e+00,  1.1079e+00, -2.1615e+00],\n",
       "        [-6.5674e-01, -2.2287e-01, -2.4018e-01],\n",
       "        [-8.6100e-01, -3.2451e-01, -4.1695e-01],\n",
       "        [ 3.8371e-01, -2.9115e-01, -4.1013e-01],\n",
       "        [-5.5659e-01,  5.6492e-01, -9.4166e-01],\n",
       "        [-4.2881e-02, -3.9190e-01,  7.0466e-01],\n",
       "        [-5.7313e-01, -1.7564e-01,  5.5105e-01],\n",
       "        [-4.8702e-01, -1.7526e-01, -4.0340e-01],\n",
       "        [ 1.3582e+00, -2.0222e+00,  1.3511e-01],\n",
       "        [ 1.0508e+00,  1.4844e+00, -1.7705e+00],\n",
       "        [-5.0727e-01, -9.6513e-01,  1.4895e+00],\n",
       "        [ 6.7541e-01,  1.0465e+00,  1.0444e+00],\n",
       "        [-6.4673e-01,  3.3152e+00, -1.1485e+00],\n",
       "        [ 1.9906e+00,  6.3315e-02, -1.1232e+00],\n",
       "        [-6.1904e-01,  6.8893e-01,  5.2996e-01],\n",
       "        [ 7.1679e-01, -1.5046e-01, -1.8523e+00],\n",
       "        [ 1.1651e+00,  3.7062e-01, -4.1880e-01],\n",
       "        [-1.2533e+00,  5.9996e-01,  1.1266e+00],\n",
       "        [ 9.2445e-01,  1.8329e+00, -1.4753e+00],\n",
       "        [ 5.3130e-01, -3.2892e-01,  2.4594e-02],\n",
       "        [ 4.8957e-01,  4.7975e-01,  4.5500e-01],\n",
       "        [ 1.1835e+00, -6.7615e-02, -6.8090e-01],\n",
       "        [ 4.9257e-01,  9.4398e-02, -9.2121e-01],\n",
       "        [-3.6705e-01,  9.5903e-02,  8.1030e-01],\n",
       "        [-1.0818e+00,  1.3243e+00,  3.9988e-01],\n",
       "        [-5.8527e-01,  5.7414e-01,  1.5578e+00],\n",
       "        [ 3.1463e-02,  5.6763e-01, -2.0622e+00],\n",
       "        [ 1.3704e+00, -2.9818e-01, -4.0060e-01],\n",
       "        [-1.7606e-02, -2.3931e+00,  3.8003e-01],\n",
       "        [-1.8125e-01, -5.0769e-01,  9.4440e-01],\n",
       "        [ 7.1699e-01, -1.8964e-01, -1.6577e+00],\n",
       "        [ 1.3915e+00,  1.0901e+00,  2.8041e-02],\n",
       "        [-6.9197e-01,  2.0116e+00, -1.4336e-01],\n",
       "        [ 1.1832e+00,  8.1359e-01, -2.0835e-01],\n",
       "        [ 1.0727e-01,  5.7298e-01, -7.3116e-01],\n",
       "        [ 4.5135e-01,  7.7296e-01, -3.6786e-01],\n",
       "        [ 3.0370e-02,  2.7838e-01,  2.9077e+00],\n",
       "        [-3.8473e-01, -1.3929e+00, -1.2678e+00],\n",
       "        [ 1.5248e+00, -6.2737e-01,  9.9244e-01],\n",
       "        [ 5.0579e-01, -6.8503e-02,  1.5323e+00],\n",
       "        [ 1.3577e+00,  4.3183e-01,  1.5936e+00],\n",
       "        [-1.9373e-01, -1.2961e+00, -2.8242e-01],\n",
       "        [-3.4859e-01, -8.8320e-02,  2.0421e-01],\n",
       "        [-7.3083e-01, -3.3711e-01,  9.4487e-01],\n",
       "        [-8.8031e-02, -3.2610e-02,  1.9692e-02],\n",
       "        [-7.9115e-01, -3.5149e-01,  5.4666e-01],\n",
       "        [ 3.4386e-01,  1.0281e+00,  7.2681e-01],\n",
       "        [-9.7892e-01,  5.6146e-02, -2.4815e+00],\n",
       "        [ 1.7397e-01,  1.0715e-01,  4.0075e-01],\n",
       "        [-2.1521e+00,  1.3450e+00,  1.2556e+00],\n",
       "        [ 8.5298e-01,  9.6676e-01, -4.0069e-01],\n",
       "        [ 8.9136e-01, -8.7741e-01, -5.8127e-01],\n",
       "        [ 2.9148e-02,  4.6008e-01, -2.6734e-01],\n",
       "        [-1.6356e+00, -7.4635e-02, -3.8886e-01],\n",
       "        [ 7.8851e-01, -1.4124e+00, -7.9815e-01],\n",
       "        [ 6.0201e-01, -1.1082e-01, -4.5079e-01],\n",
       "        [ 8.7209e-01,  2.8381e-01,  1.6969e-02],\n",
       "        [ 6.0796e-01,  9.1814e-01, -2.0476e-02],\n",
       "        [ 8.9676e-01,  5.1423e-01, -1.8369e+00],\n",
       "        [ 2.3765e+00,  1.2753e+00, -1.5153e+00],\n",
       "        [-8.0627e-01, -7.8505e-01,  8.5988e-01],\n",
       "        [-1.8079e-01, -3.3118e-01, -4.7436e-01],\n",
       "        [-1.1847e+00, -8.3463e-01, -6.8756e-01],\n",
       "        [-8.7778e-01, -6.1270e-01, -2.3283e-01],\n",
       "        [ 1.1854e+00,  1.8774e+00, -2.0161e+00],\n",
       "        [-3.3384e-01,  7.8308e-02, -1.4657e+00],\n",
       "        [ 1.2402e+00,  3.5357e-01,  9.6121e-01],\n",
       "        [ 9.5180e-01,  8.6548e-01, -1.6353e+00],\n",
       "        [-2.3076e+00,  9.6365e-01,  8.9156e-01],\n",
       "        [-5.6347e-01,  1.6032e+00, -2.4132e+00],\n",
       "        [ 4.8549e-01,  5.8183e-01, -5.2125e-01],\n",
       "        [-7.4334e-01,  7.9551e-02, -2.2406e+00],\n",
       "        [ 1.0239e+00, -8.7986e-01, -2.7187e-01],\n",
       "        [-5.2870e-01, -1.7597e+00, -1.1052e+00],\n",
       "        [-7.8827e-01, -1.7289e-01,  1.4260e+00],\n",
       "        [ 4.6868e-01,  1.2544e+00, -1.4681e+00],\n",
       "        [-7.7904e-01,  8.2933e-02,  1.8443e+00],\n",
       "        [-7.3414e-01,  1.6194e+00,  7.2255e-01],\n",
       "        [-8.5988e-02,  8.9207e-02, -7.2200e-01],\n",
       "        [ 1.8954e-01,  9.7374e-01, -9.9499e-01],\n",
       "        [ 4.7357e-01, -1.4167e+00, -1.7112e-01],\n",
       "        [-7.1323e-01, -8.6064e-01,  5.0245e-01],\n",
       "        [ 5.9539e-02, -3.3352e-01,  6.5952e-01],\n",
       "        [ 1.4932e-02,  1.0281e+00, -2.1111e-02],\n",
       "        [-6.3255e-01,  5.4449e-01,  1.5641e-01],\n",
       "        [-4.8546e-01,  1.9258e+00, -3.2752e-01],\n",
       "        [ 5.4181e-01, -1.4118e+00, -9.2626e-01],\n",
       "        [-5.5917e-01,  2.2877e-01,  1.7388e-01],\n",
       "        [ 1.8865e+00,  9.1747e-01,  2.3538e-01],\n",
       "        [-1.1994e-01, -1.2434e+00, -4.9020e-01],\n",
       "        [ 3.0170e-01,  3.1242e-01,  9.9605e-01],\n",
       "        [ 7.8992e-02, -1.1947e+00, -1.4303e+00],\n",
       "        [ 4.3978e-01,  2.8766e-01,  1.1153e+00],\n",
       "        [-1.7351e+00, -1.2416e+00,  4.1549e-01],\n",
       "        [-5.1572e-02, -9.1202e-01,  2.2521e-01],\n",
       "        [ 3.3895e-02, -8.4511e-01,  1.0754e+00],\n",
       "        [ 6.5167e-01,  1.0217e+00,  6.6684e-02],\n",
       "        [-1.8797e-01, -1.3407e+00,  6.1971e-02],\n",
       "        [ 2.1037e-01,  3.9771e-01,  3.3776e-01],\n",
       "        [ 1.1189e+00,  4.4253e-01, -4.2874e-01],\n",
       "        [-2.9510e-02,  5.0346e-01,  1.3338e+00],\n",
       "        [-1.5546e+00, -7.0740e-01, -6.4937e-01],\n",
       "        [-8.7866e-01, -3.1837e-01, -5.3190e-02],\n",
       "        [ 1.4449e+00, -1.2359e+00, -1.5112e+00],\n",
       "        [ 1.3415e+00,  8.4910e-02, -8.0012e-01],\n",
       "        [-2.3154e-01,  7.3320e-01, -4.0849e-01],\n",
       "        [-1.1889e+00,  9.4477e-01, -2.1079e+00],\n",
       "        [-1.1535e+00, -1.0748e+00, -2.9812e-01],\n",
       "        [-2.2172e-01, -5.1667e-01,  1.6788e+00],\n",
       "        [ 9.5266e-01,  1.1072e-01, -1.3488e+00],\n",
       "        [-5.7261e-01, -1.8546e-01, -1.3102e+00],\n",
       "        [ 1.7966e+00,  9.7435e-01,  7.5912e-01],\n",
       "        [ 8.4261e-02, -5.7912e-01,  3.0979e-01],\n",
       "        [-5.4617e-01, -1.5885e-01, -9.8263e-01],\n",
       "        [-1.5996e+00,  2.3386e+00,  1.8940e-01],\n",
       "        [-9.5899e-01,  3.5317e-01,  1.5169e+00],\n",
       "        [ 7.7440e-01,  4.4055e-01, -1.1328e+00],\n",
       "        [-2.1675e+00,  1.0184e+00, -2.6298e-01],\n",
       "        [-1.5119e+00,  2.3339e-01, -1.2233e+00],\n",
       "        [-1.7320e+00, -6.3322e-02,  1.2749e+00],\n",
       "        [ 3.8482e-01,  1.4530e+00,  5.7195e-01],\n",
       "        [ 2.0940e+00,  9.4913e-01, -8.3726e-01],\n",
       "        [ 8.7981e-02,  2.4491e+00, -1.3328e+00],\n",
       "        [ 4.5812e-01, -3.9214e-01, -3.1232e-01],\n",
       "        [ 9.5631e-01,  8.9934e-01, -1.9175e+00],\n",
       "        [-1.4090e+00, -1.0597e-01,  5.2212e-01],\n",
       "        [-1.2744e+00, -8.5628e-01, -1.4390e-01],\n",
       "        [ 9.8205e-01, -5.3153e-01,  4.5293e-02],\n",
       "        [ 1.5899e+00,  7.9909e-02, -3.1803e-02],\n",
       "        [-7.4313e-01, -1.1245e+00, -1.7217e+00],\n",
       "        [-1.4137e+00,  1.0628e+00, -4.1875e-01],\n",
       "        [ 1.3162e-01, -5.0221e-01, -1.5938e+00],\n",
       "        [ 2.9716e-01, -1.0644e+00,  6.2277e-02],\n",
       "        [ 4.7108e-01, -4.1690e-01, -1.5575e+00],\n",
       "        [ 1.6735e-02, -1.5177e-01, -7.7532e-01],\n",
       "        [ 9.0834e-01,  1.3424e+00,  1.2665e+00],\n",
       "        [ 1.0871e+00,  1.0743e+00, -8.6951e-01],\n",
       "        [-2.3116e-01, -4.1173e-01,  5.3934e-01],\n",
       "        [ 6.5700e-01,  2.4364e-01,  5.7776e-01],\n",
       "        [-3.6242e-03, -9.1483e-01, -1.0570e+00],\n",
       "        [ 1.0207e+00,  1.9308e-01,  1.2483e+00],\n",
       "        [-7.9879e-01,  1.9462e+00, -2.5568e-01],\n",
       "        [-3.4670e-01, -1.3349e+00,  5.8059e-01],\n",
       "        [-2.3657e-01, -1.3565e+00,  1.2893e+00],\n",
       "        [-4.8940e-02, -1.0168e+00,  1.5734e+00],\n",
       "        [ 2.0495e+00,  2.9275e-01,  7.1310e-01],\n",
       "        [ 8.1155e-01,  2.1140e-01,  1.5493e+00],\n",
       "        [ 6.6902e-01,  6.0665e-01, -3.3918e-01],\n",
       "        [-7.0307e-01, -1.7652e-01,  8.4311e-01],\n",
       "        [-8.2535e-01, -6.3401e-02, -1.8808e+00],\n",
       "        [ 1.1479e+00,  7.1617e-01, -4.1755e-01],\n",
       "        [ 1.5484e+00, -9.5968e-01,  3.4298e-01],\n",
       "        [-1.0773e+00, -5.6881e-01, -9.4576e-03],\n",
       "        [-4.2669e-01, -2.4753e+00, -3.6025e-01],\n",
       "        [-1.6136e+00, -9.3327e-01,  1.3272e+00],\n",
       "        [-5.5957e-01,  2.9600e-03,  5.4226e-01],\n",
       "        [-9.3183e-01,  6.1867e-01,  2.3186e-01],\n",
       "        [-4.9373e-02,  1.3355e+00, -7.3721e-01],\n",
       "        [ 6.5058e-01, -9.0513e-01,  1.4393e+00],\n",
       "        [ 8.7084e-01,  3.5323e-01, -5.8569e-01],\n",
       "        [ 1.2636e+00, -1.3958e-01, -1.0179e+00],\n",
       "        [-2.7561e-01, -4.0365e-02, -7.4863e-01],\n",
       "        [-1.0813e+00,  6.2054e-01, -5.9193e-01],\n",
       "        [-1.0949e+00, -3.2915e-01,  4.0144e-01],\n",
       "        [ 3.4521e-01, -5.3030e-01,  1.3969e+00],\n",
       "        [-1.9483e+00,  2.9158e+00, -5.1730e-01],\n",
       "        [ 2.9846e-01, -4.3230e-01, -1.1277e-01],\n",
       "        [-5.2504e-01,  3.6409e-01, -5.0752e-01],\n",
       "        [-2.3886e-01,  1.6270e+00,  1.4685e+00],\n",
       "        [-1.1061e+00, -1.3056e-01, -4.3917e-01],\n",
       "        [-6.5640e-01,  1.1365e+00,  5.9852e-01],\n",
       "        [ 4.8674e-01, -9.6851e-02,  3.9232e-01],\n",
       "        [-7.6258e-01, -3.8396e-01,  1.2468e+00]])"
      ]
     },
     "execution_count": 186,
     "metadata": {},
     "output_type": "execute_result"
    }
   ],
   "source": [
    "L_coo = scipy.sparse.block_diag([l1,l2])\n",
    "\n",
    "values = L_coo.data\n",
    "indices = np.vstack((L_coo.row, L_coo.col))\n",
    "\n",
    "i = torch.LongTensor(indices)\n",
    "v = torch.FloatTensor(values)\n",
    "shape = L_coo.shape\n",
    "\n",
    "torch.sparse.FloatTensor(i, v, torch.Size(shape)) "
   ]
  },
  {
   "cell_type": "code",
   "execution_count": 110,
   "metadata": {},
   "outputs": [],
   "source": [
    "from torch.utils.data import Subset"
   ]
  },
  {
   "cell_type": "code",
   "execution_count": 111,
   "metadata": {},
   "outputs": [],
   "source": [
    "td = Subset(train_dataset, range(0,1000))"
   ]
  },
  {
   "cell_type": "code",
   "execution_count": 112,
   "metadata": {},
   "outputs": [
    {
     "data": {
      "text/plain": [
       "908"
      ]
     },
     "execution_count": 112,
     "metadata": {},
     "output_type": "execute_result"
    }
   ],
   "source": [
    "len(val_dataset)"
   ]
  },
  {
   "cell_type": "code",
   "execution_count": 113,
   "metadata": {},
   "outputs": [],
   "source": [
    "from torch_geometric.loader import DataLoader"
   ]
  },
  {
   "cell_type": "code",
   "execution_count": 114,
   "metadata": {},
   "outputs": [],
   "source": [
    "dl = DataLoader(td, batch_size=4, shuffle=True)"
   ]
  },
  {
   "cell_type": "code",
   "execution_count": 115,
   "metadata": {},
   "outputs": [],
   "source": [
    "for i,b in enumerate(dl):\n",
    "    break"
   ]
  },
  {
   "cell_type": "code",
   "execution_count": 122,
   "metadata": {},
   "outputs": [],
   "source": [
    "from scipy.sparse import csr_array, csr_matrix"
   ]
  },
  {
   "cell_type": "code",
   "execution_count": 154,
   "metadata": {},
   "outputs": [],
   "source": [
    "L_sparse = torch_geometric.utils.get_laplacian(b[0].edge_index)\n",
    "L = torch_geometric.utils.to_dense_adj(L_sparse[0], edge_attr=L_sparse[1])\n",
    "eig, eigvec =  np.linalg.eigh(L)"
   ]
  },
  {
   "cell_type": "code",
   "execution_count": 157,
   "metadata": {},
   "outputs": [
    {
     "data": {
      "text/plain": [
       "array([[-8.3326381e-01, -4.6848956e-01, -4.0334663e-01, -1.9200766e-01,\n",
       "        -4.1356252e-15,  1.5179739e-02,  5.3955637e-02,  3.4504077e-01,\n",
       "         4.3207368e-01,  6.1230171e-01,  6.1621940e-01,  8.9113098e-01,\n",
       "         9.3840343e-01,  1.1825355e+00,  1.2136399e+00,  1.2695885e+00,\n",
       "         1.5339181e+00,  1.6225777e+00,  1.7398946e+00,  1.8824930e+00,\n",
       "         1.9215013e+00,  2.0722175e+00,  2.1320434e+00,  2.2136843e+00,\n",
       "         2.3906133e+00,  2.4845731e+00,  2.5252814e+00,  2.5788836e+00,\n",
       "         2.9809430e+00,  3.0737436e+00,  3.2535794e+00,  3.5177033e+00,\n",
       "         3.6127238e+00,  3.7766485e+00,  3.8532319e+00,  3.8817158e+00,\n",
       "         4.1400371e+00,  4.3460231e+00,  4.3817339e+00,  4.4817142e+00,\n",
       "         4.4897690e+00,  4.5730810e+00,  4.6951733e+00,  4.7065563e+00,\n",
       "         4.8160419e+00,  4.8330269e+00,  4.8839078e+00,  4.9605532e+00,\n",
       "         5.2258420e+00,  5.3150449e+00,  5.4836507e+00,  5.5227880e+00,\n",
       "         5.5354028e+00,  5.5577593e+00,  5.7303619e+00,  5.8269968e+00,\n",
       "         5.9248710e+00,  5.9836531e+00,  6.0899086e+00,  6.0923142e+00,\n",
       "         6.1863098e+00,  6.3779855e+00,  6.3981681e+00,  6.5144768e+00,\n",
       "         6.5880647e+00,  6.7250934e+00,  6.7657008e+00,  6.8349929e+00,\n",
       "         7.0000000e+00,  7.0365043e+00,  7.1545000e+00,  7.1554279e+00,\n",
       "         7.2353487e+00,  7.3647285e+00,  7.3883657e+00,  7.5408750e+00,\n",
       "         7.5837021e+00,  7.6900325e+00,  7.7527156e+00,  7.8060284e+00,\n",
       "         7.8512917e+00,  7.9469099e+00,  7.9717655e+00,  8.0908937e+00,\n",
       "         8.1892605e+00,  8.2539082e+00,  8.3195686e+00,  8.3246241e+00,\n",
       "         8.5191746e+00,  8.5457268e+00,  8.7430544e+00,  9.0000000e+00,\n",
       "         9.0000000e+00,  9.1390848e+00,  9.2034302e+00,  9.4078894e+00,\n",
       "         9.7179623e+00,  9.9594822e+00,  1.0145932e+01,  1.0253878e+01]],\n",
       "      dtype=float32)"
      ]
     },
     "execution_count": 157,
     "metadata": {},
     "output_type": "execute_result"
    }
   ],
   "source": [
    "eig"
   ]
  },
  {
   "cell_type": "code",
   "execution_count": 135,
   "metadata": {},
   "outputs": [],
   "source": [
    "L_csr = csr_array((L_sparse[1],(L_sparse[0][0],L_sparse[0][1])),shape = (len(b[0].x),len(b[0].x)))"
   ]
  },
  {
   "cell_type": "code",
   "execution_count": 140,
   "metadata": {},
   "outputs": [
    {
     "data": {
      "text/plain": [
       "array([[6., 0., 0., ..., 0., 0., 0.],\n",
       "       [0., 6., 0., ..., 0., 0., 0.],\n",
       "       [0., 0., 6., ..., 0., 0., 0.],\n",
       "       ...,\n",
       "       [0., 0., 0., ..., 0., 0., 0.],\n",
       "       [0., 0., 0., ..., 0., 0., 0.],\n",
       "       [0., 0., 0., ..., 0., 0., 0.]], dtype=float32)"
      ]
     },
     "execution_count": 140,
     "metadata": {},
     "output_type": "execute_result"
    }
   ],
   "source": [
    "L_csr.todense()"
   ]
  },
  {
   "cell_type": "code",
   "execution_count": 143,
   "metadata": {},
   "outputs": [
    {
     "data": {
      "text/plain": [
       "EighResult(eigenvalues=array([-8.3326381e-01, -4.6848956e-01, -4.0334663e-01, -1.9200766e-01,\n",
       "       -5.5513159e-15,  0.0000000e+00,  0.0000000e+00,  0.0000000e+00,\n",
       "        0.0000000e+00,  0.0000000e+00,  0.0000000e+00,  0.0000000e+00,\n",
       "        0.0000000e+00,  0.0000000e+00,  0.0000000e+00,  0.0000000e+00,\n",
       "        0.0000000e+00,  0.0000000e+00,  0.0000000e+00,  0.0000000e+00,\n",
       "        0.0000000e+00,  0.0000000e+00,  0.0000000e+00,  0.0000000e+00,\n",
       "        0.0000000e+00,  0.0000000e+00,  0.0000000e+00,  0.0000000e+00,\n",
       "        0.0000000e+00,  0.0000000e+00,  0.0000000e+00,  0.0000000e+00,\n",
       "        0.0000000e+00,  0.0000000e+00,  0.0000000e+00,  0.0000000e+00,\n",
       "        0.0000000e+00,  0.0000000e+00,  0.0000000e+00,  0.0000000e+00,\n",
       "        0.0000000e+00,  0.0000000e+00,  0.0000000e+00,  0.0000000e+00,\n",
       "        0.0000000e+00,  0.0000000e+00,  0.0000000e+00,  0.0000000e+00,\n",
       "        0.0000000e+00,  0.0000000e+00,  0.0000000e+00,  0.0000000e+00,\n",
       "        0.0000000e+00,  0.0000000e+00,  0.0000000e+00,  0.0000000e+00,\n",
       "        0.0000000e+00,  0.0000000e+00,  0.0000000e+00,  0.0000000e+00,\n",
       "        0.0000000e+00,  0.0000000e+00,  0.0000000e+00,  0.0000000e+00,\n",
       "        0.0000000e+00,  0.0000000e+00,  0.0000000e+00,  0.0000000e+00,\n",
       "        0.0000000e+00,  0.0000000e+00,  0.0000000e+00,  0.0000000e+00,\n",
       "        0.0000000e+00,  0.0000000e+00,  0.0000000e+00,  0.0000000e+00,\n",
       "        0.0000000e+00,  0.0000000e+00,  0.0000000e+00,  0.0000000e+00,\n",
       "        0.0000000e+00,  0.0000000e+00,  0.0000000e+00,  0.0000000e+00,\n",
       "        0.0000000e+00,  0.0000000e+00,  0.0000000e+00,  0.0000000e+00,\n",
       "        0.0000000e+00,  0.0000000e+00,  0.0000000e+00,  0.0000000e+00,\n",
       "        0.0000000e+00,  0.0000000e+00,  0.0000000e+00,  0.0000000e+00,\n",
       "        0.0000000e+00,  0.0000000e+00,  0.0000000e+00,  0.0000000e+00,\n",
       "        0.0000000e+00,  0.0000000e+00,  0.0000000e+00,  0.0000000e+00,\n",
       "        0.0000000e+00,  0.0000000e+00,  0.0000000e+00,  0.0000000e+00,\n",
       "        0.0000000e+00,  0.0000000e+00,  0.0000000e+00,  0.0000000e+00,\n",
       "        0.0000000e+00,  0.0000000e+00,  0.0000000e+00,  0.0000000e+00,\n",
       "        0.0000000e+00,  0.0000000e+00,  0.0000000e+00,  0.0000000e+00,\n",
       "        0.0000000e+00,  0.0000000e+00,  0.0000000e+00,  0.0000000e+00,\n",
       "        0.0000000e+00,  0.0000000e+00,  0.0000000e+00,  0.0000000e+00,\n",
       "        0.0000000e+00,  0.0000000e+00,  0.0000000e+00,  0.0000000e+00,\n",
       "        0.0000000e+00,  0.0000000e+00,  0.0000000e+00,  0.0000000e+00,\n",
       "        0.0000000e+00,  0.0000000e+00,  0.0000000e+00,  0.0000000e+00,\n",
       "        0.0000000e+00,  0.0000000e+00,  0.0000000e+00,  0.0000000e+00,\n",
       "        0.0000000e+00,  0.0000000e+00,  0.0000000e+00,  0.0000000e+00,\n",
       "        0.0000000e+00,  0.0000000e+00,  0.0000000e+00,  0.0000000e+00,\n",
       "        0.0000000e+00,  0.0000000e+00,  0.0000000e+00,  0.0000000e+00,\n",
       "        0.0000000e+00,  0.0000000e+00,  0.0000000e+00,  0.0000000e+00,\n",
       "        0.0000000e+00,  0.0000000e+00,  0.0000000e+00,  0.0000000e+00,\n",
       "        0.0000000e+00,  0.0000000e+00,  0.0000000e+00,  0.0000000e+00,\n",
       "        0.0000000e+00,  0.0000000e+00,  0.0000000e+00,  0.0000000e+00,\n",
       "        0.0000000e+00,  0.0000000e+00,  0.0000000e+00,  0.0000000e+00,\n",
       "        0.0000000e+00,  0.0000000e+00,  0.0000000e+00,  0.0000000e+00,\n",
       "        0.0000000e+00,  0.0000000e+00,  0.0000000e+00,  0.0000000e+00,\n",
       "        0.0000000e+00,  0.0000000e+00,  0.0000000e+00,  0.0000000e+00,\n",
       "        0.0000000e+00,  0.0000000e+00,  0.0000000e+00,  0.0000000e+00,\n",
       "        0.0000000e+00,  0.0000000e+00,  0.0000000e+00,  0.0000000e+00,\n",
       "        0.0000000e+00,  0.0000000e+00,  0.0000000e+00,  0.0000000e+00,\n",
       "        0.0000000e+00,  0.0000000e+00,  0.0000000e+00,  0.0000000e+00,\n",
       "        0.0000000e+00,  0.0000000e+00,  0.0000000e+00,  0.0000000e+00,\n",
       "        0.0000000e+00,  0.0000000e+00,  0.0000000e+00,  0.0000000e+00,\n",
       "        0.0000000e+00,  0.0000000e+00,  0.0000000e+00,  0.0000000e+00,\n",
       "        0.0000000e+00,  0.0000000e+00,  0.0000000e+00,  0.0000000e+00,\n",
       "        0.0000000e+00,  0.0000000e+00,  0.0000000e+00,  0.0000000e+00,\n",
       "        0.0000000e+00,  0.0000000e+00,  0.0000000e+00,  0.0000000e+00,\n",
       "        0.0000000e+00,  0.0000000e+00,  0.0000000e+00,  0.0000000e+00,\n",
       "        0.0000000e+00,  0.0000000e+00,  0.0000000e+00,  0.0000000e+00,\n",
       "        0.0000000e+00,  0.0000000e+00,  0.0000000e+00,  0.0000000e+00,\n",
       "        0.0000000e+00,  0.0000000e+00,  0.0000000e+00,  0.0000000e+00,\n",
       "        0.0000000e+00,  0.0000000e+00,  0.0000000e+00,  0.0000000e+00,\n",
       "        0.0000000e+00,  0.0000000e+00,  0.0000000e+00,  0.0000000e+00,\n",
       "        0.0000000e+00,  0.0000000e+00,  0.0000000e+00,  0.0000000e+00,\n",
       "        0.0000000e+00,  0.0000000e+00,  0.0000000e+00,  0.0000000e+00,\n",
       "        0.0000000e+00,  0.0000000e+00,  0.0000000e+00,  0.0000000e+00,\n",
       "        0.0000000e+00,  0.0000000e+00,  0.0000000e+00,  0.0000000e+00,\n",
       "        0.0000000e+00,  0.0000000e+00,  0.0000000e+00,  0.0000000e+00,\n",
       "        0.0000000e+00,  0.0000000e+00,  0.0000000e+00,  0.0000000e+00,\n",
       "        0.0000000e+00,  0.0000000e+00,  0.0000000e+00,  0.0000000e+00,\n",
       "        0.0000000e+00,  0.0000000e+00,  0.0000000e+00,  0.0000000e+00,\n",
       "        0.0000000e+00,  0.0000000e+00,  0.0000000e+00,  0.0000000e+00,\n",
       "        0.0000000e+00,  0.0000000e+00,  0.0000000e+00,  0.0000000e+00,\n",
       "        0.0000000e+00,  0.0000000e+00,  0.0000000e+00,  0.0000000e+00,\n",
       "        0.0000000e+00,  0.0000000e+00,  0.0000000e+00,  0.0000000e+00,\n",
       "        0.0000000e+00,  0.0000000e+00,  0.0000000e+00,  0.0000000e+00,\n",
       "        0.0000000e+00,  1.5179739e-02,  5.3955637e-02,  3.4504077e-01,\n",
       "        4.3207368e-01,  6.1230171e-01,  6.1621940e-01,  8.9113098e-01,\n",
       "        9.3840343e-01,  1.1825355e+00,  1.2136399e+00,  1.2695885e+00,\n",
       "        1.5339181e+00,  1.6225777e+00,  1.7398946e+00,  1.8824930e+00,\n",
       "        1.9215013e+00,  2.0722175e+00,  2.1320434e+00,  2.2136843e+00,\n",
       "        2.3906133e+00,  2.4845731e+00,  2.5252814e+00,  2.5788836e+00,\n",
       "        2.9809430e+00,  3.0737436e+00,  3.2535794e+00,  3.5177033e+00,\n",
       "        3.6127238e+00,  3.7766485e+00,  3.8532319e+00,  3.8817158e+00,\n",
       "        4.1400371e+00,  4.3460231e+00,  4.3817339e+00,  4.4817142e+00,\n",
       "        4.4897690e+00,  4.5730810e+00,  4.6951733e+00,  4.7065563e+00,\n",
       "        4.8160419e+00,  4.8330269e+00,  4.8839078e+00,  4.9605532e+00,\n",
       "        5.2258420e+00,  5.3150449e+00,  5.4836507e+00,  5.5227880e+00,\n",
       "        5.5354028e+00,  5.5577593e+00,  5.7303619e+00,  5.8269968e+00,\n",
       "        5.9248710e+00,  5.9836531e+00,  6.0899086e+00,  6.0923142e+00,\n",
       "        6.1863098e+00,  6.3779855e+00,  6.3981681e+00,  6.5144768e+00,\n",
       "        6.5880647e+00,  6.7250934e+00,  6.7657008e+00,  6.8349929e+00,\n",
       "        7.0000000e+00,  7.0365043e+00,  7.1545000e+00,  7.1554279e+00,\n",
       "        7.2353487e+00,  7.3647285e+00,  7.3883657e+00,  7.5408750e+00,\n",
       "        7.5837021e+00,  7.6900325e+00,  7.7527156e+00,  7.8060284e+00,\n",
       "        7.8512917e+00,  7.9469099e+00,  7.9717655e+00,  8.0908937e+00,\n",
       "        8.1892605e+00,  8.2539082e+00,  8.3195686e+00,  8.3246241e+00,\n",
       "        8.5191746e+00,  8.5457268e+00,  8.7430544e+00,  9.0000000e+00,\n",
       "        9.0000000e+00,  9.1390848e+00,  9.2034302e+00,  9.4078894e+00,\n",
       "        9.7179623e+00,  9.9594822e+00,  1.0145932e+01,  1.0253878e+01],\n",
       "      dtype=float32), eigenvectors=array([[-7.5825467e-03,  1.8070189e-02, -1.8394527e-03, ...,\n",
       "         1.4035713e-06, -8.8319227e-02,  1.8720418e-02],\n",
       "       [-1.3450186e-03,  4.2290967e-03, -5.3605752e-04, ...,\n",
       "        -2.7076769e-06, -2.4746086e-03,  1.1727030e-03],\n",
       "       [-6.8837672e-02, -2.1189269e-02, -3.5689864e-02, ...,\n",
       "         2.3396771e-07,  1.8346970e-04, -1.1698320e-03],\n",
       "       ...,\n",
       "       [ 0.0000000e+00,  0.0000000e+00,  0.0000000e+00, ...,\n",
       "         0.0000000e+00,  0.0000000e+00,  0.0000000e+00],\n",
       "       [ 0.0000000e+00,  0.0000000e+00,  0.0000000e+00, ...,\n",
       "         0.0000000e+00,  0.0000000e+00,  0.0000000e+00],\n",
       "       [ 0.0000000e+00,  0.0000000e+00,  0.0000000e+00, ...,\n",
       "         0.0000000e+00,  0.0000000e+00,  0.0000000e+00]], dtype=float32))"
      ]
     },
     "execution_count": 143,
     "metadata": {},
     "output_type": "execute_result"
    }
   ],
   "source": [
    "np.linalg.eigh(L_csr.todense())"
   ]
  },
  {
   "cell_type": "code",
   "execution_count": null,
   "metadata": {},
   "outputs": [],
   "source": [
    "scipy.sparse.linalg.eigsh(L_csr, )"
   ]
  },
  {
   "cell_type": "code",
   "execution_count": 119,
   "metadata": {},
   "outputs": [
    {
     "ename": "TypeError",
     "evalue": "invalid input format",
     "output_type": "error",
     "traceback": [
      "\u001b[0;31m---------------------------------------------------------------------------\u001b[0m",
      "\u001b[0;31mValueError\u001b[0m                                Traceback (most recent call last)",
      "File \u001b[0;32m~/miniconda3/envs/pcnn/lib/python3.9/site-packages/scipy/sparse/_coo.py:141\u001b[0m, in \u001b[0;36mcoo_matrix.__init__\u001b[0;34m(self, arg1, shape, dtype, copy)\u001b[0m\n\u001b[1;32m    140\u001b[0m \u001b[39mtry\u001b[39;00m:\n\u001b[0;32m--> 141\u001b[0m     obj, (row, col) \u001b[39m=\u001b[39m arg1\n\u001b[1;32m    142\u001b[0m \u001b[39mexcept\u001b[39;00m (\u001b[39mTypeError\u001b[39;00m, \u001b[39mValueError\u001b[39;00m) \u001b[39mas\u001b[39;00m e:\n",
      "\u001b[0;31mValueError\u001b[0m: too many values to unpack (expected 2)",
      "\nThe above exception was the direct cause of the following exception:\n",
      "\u001b[0;31mTypeError\u001b[0m                                 Traceback (most recent call last)",
      "Cell \u001b[0;32mIn[119], line 2\u001b[0m\n\u001b[1;32m      1\u001b[0m \u001b[39mimport\u001b[39;00m \u001b[39mscipy\u001b[39;00m\n\u001b[0;32m----> 2\u001b[0m scipy\u001b[39m.\u001b[39;49msparse\u001b[39m.\u001b[39;49mcsr_matrix(L_sparse)\n",
      "File \u001b[0;32m~/miniconda3/envs/pcnn/lib/python3.9/site-packages/scipy/sparse/_compressed.py:53\u001b[0m, in \u001b[0;36m_cs_matrix.__init__\u001b[0;34m(self, arg1, shape, dtype, copy)\u001b[0m\n\u001b[1;32m     49\u001b[0m \u001b[39melse\u001b[39;00m:\n\u001b[1;32m     50\u001b[0m     \u001b[39mif\u001b[39;00m \u001b[39mlen\u001b[39m(arg1) \u001b[39m==\u001b[39m \u001b[39m2\u001b[39m:\n\u001b[1;32m     51\u001b[0m         \u001b[39m# (data, ij) format\u001b[39;00m\n\u001b[1;32m     52\u001b[0m         other \u001b[39m=\u001b[39m \u001b[39mself\u001b[39m\u001b[39m.\u001b[39m\u001b[39m__class__\u001b[39m(\n\u001b[0;32m---> 53\u001b[0m             \u001b[39mself\u001b[39;49m\u001b[39m.\u001b[39;49m_coo_container(arg1, shape\u001b[39m=\u001b[39;49mshape, dtype\u001b[39m=\u001b[39;49mdtype)\n\u001b[1;32m     54\u001b[0m         )\n\u001b[1;32m     55\u001b[0m         \u001b[39mself\u001b[39m\u001b[39m.\u001b[39m_set_self(other)\n\u001b[1;32m     56\u001b[0m     \u001b[39melif\u001b[39;00m \u001b[39mlen\u001b[39m(arg1) \u001b[39m==\u001b[39m \u001b[39m3\u001b[39m:\n\u001b[1;32m     57\u001b[0m         \u001b[39m# (data, indices, indptr) format\u001b[39;00m\n",
      "File \u001b[0;32m~/miniconda3/envs/pcnn/lib/python3.9/site-packages/scipy/sparse/_coo.py:143\u001b[0m, in \u001b[0;36mcoo_matrix.__init__\u001b[0;34m(self, arg1, shape, dtype, copy)\u001b[0m\n\u001b[1;32m    141\u001b[0m     obj, (row, col) \u001b[39m=\u001b[39m arg1\n\u001b[1;32m    142\u001b[0m \u001b[39mexcept\u001b[39;00m (\u001b[39mTypeError\u001b[39;00m, \u001b[39mValueError\u001b[39;00m) \u001b[39mas\u001b[39;00m e:\n\u001b[0;32m--> 143\u001b[0m     \u001b[39mraise\u001b[39;00m \u001b[39mTypeError\u001b[39;00m(\u001b[39m'\u001b[39m\u001b[39minvalid input format\u001b[39m\u001b[39m'\u001b[39m) \u001b[39mfrom\u001b[39;00m \u001b[39me\u001b[39;00m\n\u001b[1;32m    145\u001b[0m \u001b[39mif\u001b[39;00m shape \u001b[39mis\u001b[39;00m \u001b[39mNone\u001b[39;00m:\n\u001b[1;32m    146\u001b[0m     \u001b[39mif\u001b[39;00m \u001b[39mlen\u001b[39m(row) \u001b[39m==\u001b[39m \u001b[39m0\u001b[39m \u001b[39mor\u001b[39;00m \u001b[39mlen\u001b[39m(col) \u001b[39m==\u001b[39m \u001b[39m0\u001b[39m:\n",
      "\u001b[0;31mTypeError\u001b[0m: invalid input format"
     ]
    }
   ],
   "source": [
    "import scipy\n",
    "scipy.sparse.csr_matrix(L_sparse)"
   ]
  },
  {
   "cell_type": "code",
   "execution_count": 117,
   "metadata": {},
   "outputs": [
    {
     "data": {
      "text/plain": [
       "(tensor([[  5,   6,  13,  ..., 397, 398, 399],\n",
       "         [  0,   0,   0,  ..., 397, 398, 399]]),\n",
       " tensor([-1., -1., -1.,  ...,  1.,  5.,  5.]))"
      ]
     },
     "execution_count": 117,
     "metadata": {},
     "output_type": "execute_result"
    }
   ],
   "source": [
    "S, U = sparse.linalg.eigsh(L, k = K, which='SM')"
   ]
  },
  {
   "cell_type": "code",
   "execution_count": 103,
   "metadata": {},
   "outputs": [],
   "source": [
    "\n",
    "A_sparse = torch_geometric.utils.to_torch_coo_tensor(b[0].edge_index, b[0].edge_weight)\n",
    "D = A_sparse.sum(1).to_dense()\n",
    "Dinv = torch.sparse.spdiags(1/D.squeeze(), offsets = torch.zeros(1).long(),shape = (len(D),len(D)))\n",
    "P_sparse = torch.sparse.mm(Dinv,A_sparse)\n",
    "Lcsr = torch_geometric.utils.to_torch_csr_tensor(L_sparse[0],L_sparse[1])"
   ]
  },
  {
   "cell_type": "code",
   "execution_count": 106,
   "metadata": {},
   "outputs": [
    {
     "data": {
      "text/plain": [
       "tensor(crow_indices=tensor([    0,     7,    10,  ..., 12273, 12280, 12288]),\n",
       "       col_indices=tensor([   0,  161,  218,  ..., 1795, 1987, 2047]),\n",
       "       values=tensor([ 6., -1., -1.,  ..., -1., -1.,  7.]), size=(2048, 2048),\n",
       "       nnz=12288, layout=torch.sparse_csr)"
      ]
     },
     "execution_count": 106,
     "metadata": {},
     "output_type": "execute_result"
    }
   ],
   "source": [
    "S, U = sparse.linalg.eigsh(L, k = K, which='SM')\n",
    "S = np.reshape(S.real, (1, -1))/(eps * n)\n",
    "S[0,0] = 0 # manually enforce this\n",
    "# normalize eigenvectors in usual l2 norm\n",
    "U = np.divide(U.real, np.linalg.norm(U.real, axis=0, keepdims=True))\n",
    "return S, U, eps"
   ]
  },
  {
   "cell_type": "code",
   "execution_count": 53,
   "metadata": {},
   "outputs": [
    {
     "data": {
      "text/plain": [
       "EighResult(eigenvalues=array([[-1.420253 , -1.223848 , -0.9920222, ..., 12.138629 , 12.349476 ,\n",
       "        12.978813 ]], dtype=float32), eigenvectors=array([[[ 3.45628131e-08,  9.86085264e-16,  3.66942572e-18, ...,\n",
       "         -1.03954544e-05,  9.06625171e-14, -7.99481192e-09],\n",
       "        [ 2.25964455e-10, -1.46462320e-17, -9.27838302e-17, ...,\n",
       "          2.40622882e-07,  1.08331345e-16, -7.88841648e-14],\n",
       "        [-8.77751126e-18,  7.52720695e-08, -5.62216267e-02, ...,\n",
       "          3.68628739e-17, -5.68516530e-19, -9.95094306e-18],\n",
       "        ...,\n",
       "        [ 3.15610331e-13,  1.06515691e-01, -1.22397250e-06, ...,\n",
       "         -1.55476596e-24,  1.78949896e-18,  2.59928122e-23],\n",
       "        [ 2.37180935e-13,  4.70022818e-17, -6.62040952e-17, ...,\n",
       "          2.02633930e-13, -3.38406603e-17,  4.00561881e-18],\n",
       "        [ 2.31711969e-10,  7.11372150e-17,  1.34657910e-16, ...,\n",
       "         -5.02802355e-10, -5.20417043e-18,  1.37525110e-13]]],\n",
       "      dtype=float32))"
      ]
     },
     "execution_count": 53,
     "metadata": {},
     "output_type": "execute_result"
    }
   ],
   "source": [
    "\n",
    "L = torch_geometric.utils.to_dense_adj(L_sparse[0],edge_attr = L_sparse[1])\n",
    "np.linalg.eigh(L)\n"
   ]
  },
  {
   "cell_type": "code",
   "execution_count": 51,
   "metadata": {},
   "outputs": [
    {
     "data": {
      "text/plain": [
       "tensor([[[6., 0., 0.,  ..., 0., 0., 0.],\n",
       "         [0., 2., 0.,  ..., 0., 0., 0.],\n",
       "         [0., 0., 6.,  ..., 0., 0., 0.],\n",
       "         ...,\n",
       "         [0., 0., 0.,  ..., 5., 0., 0.],\n",
       "         [0., 0., 0.,  ..., 0., 6., 0.],\n",
       "         [0., 0., 0.,  ..., 0., 0., 7.]]])"
      ]
     },
     "execution_count": 51,
     "metadata": {},
     "output_type": "execute_result"
    }
   ],
   "source": [
    "L"
   ]
  },
  {
   "cell_type": "code",
   "execution_count": 7,
   "metadata": {},
   "outputs": [],
   "source": [
    "from torch_geometric.transforms.knn_graph import KNNGraph\n",
    "\n",
    "knn_transform = KNNGraph(k=5)"
   ]
  },
  {
   "cell_type": "code",
   "execution_count": 8,
   "metadata": {},
   "outputs": [
    {
     "data": {
      "text/plain": [
       "<function torch_geometric.nn.pool.knn_graph(x: torch.Tensor, k: int, batch: Optional[torch.Tensor] = None, loop: bool = False, flow: str = 'source_to_target', cosine: bool = False, num_workers: int = 1) -> torch.Tensor>"
      ]
     },
     "execution_count": 8,
     "metadata": {},
     "output_type": "execute_result"
    }
   ],
   "source": [
    "import torch_geometric\n",
    "torch_geometric.nn.knn_graph"
   ]
  },
  {
   "cell_type": "code",
   "execution_count": 9,
   "metadata": {},
   "outputs": [
    {
     "data": {
      "text/plain": [
       "Data(pos=[82260, 3], face=[3, 32974], y=[1])"
      ]
     },
     "execution_count": 9,
     "metadata": {},
     "output_type": "execute_result"
    }
   ],
   "source": [
    "b[0]"
   ]
  },
  {
   "cell_type": "code",
   "execution_count": 10,
   "metadata": {},
   "outputs": [
    {
     "data": {
      "text/plain": [
       "Data(pos=[82260, 3], face=[3, 32974], y=[1], edge_index=[2, 444536])"
      ]
     },
     "execution_count": 10,
     "metadata": {},
     "output_type": "execute_result"
    }
   ],
   "source": [
    "knn_transform(b[0])"
   ]
  },
  {
   "cell_type": "code",
   "execution_count": 11,
   "metadata": {},
   "outputs": [
    {
     "data": {
      "text/plain": [
       "Data(pos=[82260, 3], face=[3, 32974], y=[1])"
      ]
     },
     "execution_count": 11,
     "metadata": {},
     "output_type": "execute_result"
    }
   ],
   "source": [
    "b[0]"
   ]
  },
  {
   "cell_type": "code",
   "execution_count": null,
   "metadata": {},
   "outputs": [],
   "source": []
  }
 ],
 "metadata": {
  "kernelspec": {
   "display_name": "pcnn",
   "language": "python",
   "name": "python3"
  },
  "language_info": {
   "codemirror_mode": {
    "name": "ipython",
    "version": 3
   },
   "file_extension": ".py",
   "mimetype": "text/x-python",
   "name": "python",
   "nbconvert_exporter": "python",
   "pygments_lexer": "ipython3",
   "version": "3.9.16"
  },
  "orig_nbformat": 4
 },
 "nbformat": 4,
 "nbformat_minor": 2
}
